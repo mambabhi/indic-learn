{
  "cells": [
    {
      "cell_type": "markdown",
      "metadata": {
        "id": "view-in-github",
        "colab_type": "text"
      },
      "source": [
        "<a href=\"https://colab.research.google.com/github/mambabhi/indic-learn/blob/main/indic_story_english_quiz_generator.ipynb\" target=\"_parent\"><img src=\"https://colab.research.google.com/assets/colab-badge.svg\" alt=\"Open In Colab\"/></a>"
      ]
    },
    {
      "cell_type": "code",
      "execution_count": 1,
      "metadata": {
        "colab": {
          "base_uri": "https://localhost:8080/"
        },
        "collapsed": true,
        "id": "8_fkWY3_-ywd",
        "outputId": "25c47d54-f17f-4dfa-a294-0df119196bc2"
      },
      "outputs": [
        {
          "output_type": "stream",
          "name": "stdout",
          "text": [
            "Collecting haystack-ai\n",
            "  Downloading haystack_ai-2.12.1-py3-none-any.whl.metadata (14 kB)\n",
            "Collecting langfuse-haystack\n",
            "  Downloading langfuse_haystack-1.0.0-py3-none-any.whl.metadata (5.7 kB)\n",
            "Collecting langfuse\n",
            "  Downloading langfuse-2.60.2-py3-none-any.whl.metadata (3.2 kB)\n",
            "Collecting groq\n",
            "  Downloading groq-0.22.0-py3-none-any.whl.metadata (15 kB)\n",
            "Collecting surf\n",
            "  Downloading SuRF-1.1.9.tar.gz (55 kB)\n",
            "\u001b[2K     \u001b[90m━━━━━━━━━━━━━━━━━━━━━━━━━━━━━━━━━━━━━━━━\u001b[0m \u001b[32m55.1/55.1 kB\u001b[0m \u001b[31m2.2 MB/s\u001b[0m eta \u001b[36m0:00:00\u001b[0m\n",
            "\u001b[?25h  Preparing metadata (setup.py) ... \u001b[?25l\u001b[?25hdone\n",
            "Collecting json-repair\n",
            "  Downloading json_repair-0.41.0-py3-none-any.whl.metadata (11 kB)\n",
            "Collecting datasets\n",
            "  Downloading datasets-3.5.0-py3-none-any.whl.metadata (19 kB)\n",
            "Collecting haystack-experimental (from haystack-ai)\n",
            "  Downloading haystack_experimental-0.8.0-py3-none-any.whl.metadata (12 kB)\n",
            "Requirement already satisfied: jinja2 in /usr/local/lib/python3.11/dist-packages (from haystack-ai) (3.1.6)\n",
            "Requirement already satisfied: jsonschema in /usr/local/lib/python3.11/dist-packages (from haystack-ai) (4.23.0)\n",
            "Collecting lazy-imports (from haystack-ai)\n",
            "  Downloading lazy_imports-0.4.0-py3-none-any.whl.metadata (10 kB)\n",
            "Requirement already satisfied: more-itertools in /usr/local/lib/python3.11/dist-packages (from haystack-ai) (10.6.0)\n",
            "Requirement already satisfied: networkx in /usr/local/lib/python3.11/dist-packages (from haystack-ai) (3.4.2)\n",
            "Requirement already satisfied: numpy in /usr/local/lib/python3.11/dist-packages (from haystack-ai) (2.0.2)\n",
            "Requirement already satisfied: openai>=1.56.1 in /usr/local/lib/python3.11/dist-packages (from haystack-ai) (1.70.0)\n",
            "Collecting posthog!=3.12.0 (from haystack-ai)\n",
            "  Downloading posthog-3.24.1-py2.py3-none-any.whl.metadata (3.0 kB)\n",
            "Requirement already satisfied: pydantic in /usr/local/lib/python3.11/dist-packages (from haystack-ai) (2.11.2)\n",
            "Requirement already satisfied: python-dateutil in /usr/local/lib/python3.11/dist-packages (from haystack-ai) (2.8.2)\n",
            "Requirement already satisfied: pyyaml in /usr/local/lib/python3.11/dist-packages (from haystack-ai) (6.0.2)\n",
            "Requirement already satisfied: requests in /usr/local/lib/python3.11/dist-packages (from haystack-ai) (2.32.3)\n",
            "Requirement already satisfied: tenacity!=8.4.0 in /usr/local/lib/python3.11/dist-packages (from haystack-ai) (9.1.2)\n",
            "Requirement already satisfied: tqdm in /usr/local/lib/python3.11/dist-packages (from haystack-ai) (4.67.1)\n",
            "Requirement already satisfied: typing-extensions>=4.7 in /usr/local/lib/python3.11/dist-packages (from haystack-ai) (4.13.1)\n",
            "Requirement already satisfied: anyio<5.0.0,>=4.4.0 in /usr/local/lib/python3.11/dist-packages (from langfuse) (4.9.0)\n",
            "Collecting backoff>=1.10.0 (from langfuse)\n",
            "  Downloading backoff-2.2.1-py3-none-any.whl.metadata (14 kB)\n",
            "Requirement already satisfied: httpx<1.0,>=0.15.4 in /usr/local/lib/python3.11/dist-packages (from langfuse) (0.28.1)\n",
            "Requirement already satisfied: idna<4.0,>=3.7 in /usr/local/lib/python3.11/dist-packages (from langfuse) (3.10)\n",
            "Requirement already satisfied: packaging<25.0,>=23.2 in /usr/local/lib/python3.11/dist-packages (from langfuse) (24.2)\n",
            "Requirement already satisfied: wrapt<2.0,>=1.14 in /usr/local/lib/python3.11/dist-packages (from langfuse) (1.17.2)\n",
            "Requirement already satisfied: distro<2,>=1.7.0 in /usr/local/lib/python3.11/dist-packages (from groq) (1.9.0)\n",
            "Requirement already satisfied: sniffio in /usr/local/lib/python3.11/dist-packages (from groq) (1.3.1)\n",
            "Collecting rdflib>=4.2.1 (from surf)\n",
            "  Downloading rdflib-7.1.4-py3-none-any.whl.metadata (11 kB)\n",
            "Collecting SPARQLWrapper>=1.7.6 (from surf)\n",
            "  Downloading SPARQLWrapper-2.0.0-py3-none-any.whl.metadata (2.0 kB)\n",
            "Requirement already satisfied: filelock in /usr/local/lib/python3.11/dist-packages (from datasets) (3.18.0)\n",
            "Requirement already satisfied: pyarrow>=15.0.0 in /usr/local/lib/python3.11/dist-packages (from datasets) (18.1.0)\n",
            "Collecting dill<0.3.9,>=0.3.0 (from datasets)\n",
            "  Downloading dill-0.3.8-py3-none-any.whl.metadata (10 kB)\n",
            "Requirement already satisfied: pandas in /usr/local/lib/python3.11/dist-packages (from datasets) (2.2.2)\n",
            "Collecting xxhash (from datasets)\n",
            "  Downloading xxhash-3.5.0-cp311-cp311-manylinux_2_17_x86_64.manylinux2014_x86_64.whl.metadata (12 kB)\n",
            "Collecting multiprocess<0.70.17 (from datasets)\n",
            "  Downloading multiprocess-0.70.16-py311-none-any.whl.metadata (7.2 kB)\n",
            "Collecting fsspec<=2024.12.0,>=2023.1.0 (from fsspec[http]<=2024.12.0,>=2023.1.0->datasets)\n",
            "  Downloading fsspec-2024.12.0-py3-none-any.whl.metadata (11 kB)\n",
            "Requirement already satisfied: aiohttp in /usr/local/lib/python3.11/dist-packages (from datasets) (3.11.15)\n",
            "Requirement already satisfied: huggingface-hub>=0.24.0 in /usr/local/lib/python3.11/dist-packages (from datasets) (0.30.1)\n",
            "Requirement already satisfied: aiohappyeyeballs>=2.3.0 in /usr/local/lib/python3.11/dist-packages (from aiohttp->datasets) (2.6.1)\n",
            "Requirement already satisfied: aiosignal>=1.1.2 in /usr/local/lib/python3.11/dist-packages (from aiohttp->datasets) (1.3.2)\n",
            "Requirement already satisfied: attrs>=17.3.0 in /usr/local/lib/python3.11/dist-packages (from aiohttp->datasets) (25.3.0)\n",
            "Requirement already satisfied: frozenlist>=1.1.1 in /usr/local/lib/python3.11/dist-packages (from aiohttp->datasets) (1.5.0)\n",
            "Requirement already satisfied: multidict<7.0,>=4.5 in /usr/local/lib/python3.11/dist-packages (from aiohttp->datasets) (6.3.2)\n",
            "Requirement already satisfied: propcache>=0.2.0 in /usr/local/lib/python3.11/dist-packages (from aiohttp->datasets) (0.3.1)\n",
            "Requirement already satisfied: yarl<2.0,>=1.17.0 in /usr/local/lib/python3.11/dist-packages (from aiohttp->datasets) (1.18.3)\n",
            "Requirement already satisfied: certifi in /usr/local/lib/python3.11/dist-packages (from httpx<1.0,>=0.15.4->langfuse) (2025.1.31)\n",
            "Requirement already satisfied: httpcore==1.* in /usr/local/lib/python3.11/dist-packages (from httpx<1.0,>=0.15.4->langfuse) (1.0.7)\n",
            "Requirement already satisfied: h11<0.15,>=0.13 in /usr/local/lib/python3.11/dist-packages (from httpcore==1.*->httpx<1.0,>=0.15.4->langfuse) (0.14.0)\n",
            "Requirement already satisfied: jiter<1,>=0.4.0 in /usr/local/lib/python3.11/dist-packages (from openai>=1.56.1->haystack-ai) (0.9.0)\n",
            "Requirement already satisfied: six>=1.5 in /usr/local/lib/python3.11/dist-packages (from posthog!=3.12.0->haystack-ai) (1.17.0)\n",
            "Collecting monotonic>=1.5 (from posthog!=3.12.0->haystack-ai)\n",
            "  Downloading monotonic-1.6-py2.py3-none-any.whl.metadata (1.5 kB)\n",
            "Requirement already satisfied: annotated-types>=0.6.0 in /usr/local/lib/python3.11/dist-packages (from pydantic->haystack-ai) (0.7.0)\n",
            "Requirement already satisfied: pydantic-core==2.33.1 in /usr/local/lib/python3.11/dist-packages (from pydantic->haystack-ai) (2.33.1)\n",
            "Requirement already satisfied: typing-inspection>=0.4.0 in /usr/local/lib/python3.11/dist-packages (from pydantic->haystack-ai) (0.4.0)\n",
            "Requirement already satisfied: pyparsing<4,>=2.1.0 in /usr/local/lib/python3.11/dist-packages (from rdflib>=4.2.1->surf) (3.2.3)\n",
            "Requirement already satisfied: charset-normalizer<4,>=2 in /usr/local/lib/python3.11/dist-packages (from requests->haystack-ai) (3.4.1)\n",
            "Requirement already satisfied: urllib3<3,>=1.21.1 in /usr/local/lib/python3.11/dist-packages (from requests->haystack-ai) (2.3.0)\n",
            "Requirement already satisfied: MarkupSafe>=2.0 in /usr/local/lib/python3.11/dist-packages (from jinja2->haystack-ai) (3.0.2)\n",
            "Requirement already satisfied: jsonschema-specifications>=2023.03.6 in /usr/local/lib/python3.11/dist-packages (from jsonschema->haystack-ai) (2024.10.1)\n",
            "Requirement already satisfied: referencing>=0.28.4 in /usr/local/lib/python3.11/dist-packages (from jsonschema->haystack-ai) (0.36.2)\n",
            "Requirement already satisfied: rpds-py>=0.7.1 in /usr/local/lib/python3.11/dist-packages (from jsonschema->haystack-ai) (0.24.0)\n",
            "Requirement already satisfied: pytz>=2020.1 in /usr/local/lib/python3.11/dist-packages (from pandas->datasets) (2025.2)\n",
            "Requirement already satisfied: tzdata>=2022.7 in /usr/local/lib/python3.11/dist-packages (from pandas->datasets) (2025.2)\n",
            "Downloading haystack_ai-2.12.1-py3-none-any.whl (482 kB)\n",
            "\u001b[2K   \u001b[90m━━━━━━━━━━━━━━━━━━━━━━━━━━━━━━━━━━━━━━━━\u001b[0m \u001b[32m483.0/483.0 kB\u001b[0m \u001b[31m10.7 MB/s\u001b[0m eta \u001b[36m0:00:00\u001b[0m\n",
            "\u001b[?25hDownloading langfuse_haystack-1.0.0-py3-none-any.whl (16 kB)\n",
            "Downloading langfuse-2.60.2-py3-none-any.whl (274 kB)\n",
            "\u001b[2K   \u001b[90m━━━━━━━━━━━━━━━━━━━━━━━━━━━━━━━━━━━━━━━━\u001b[0m \u001b[32m275.0/275.0 kB\u001b[0m \u001b[31m15.8 MB/s\u001b[0m eta \u001b[36m0:00:00\u001b[0m\n",
            "\u001b[?25hDownloading groq-0.22.0-py3-none-any.whl (126 kB)\n",
            "\u001b[2K   \u001b[90m━━━━━━━━━━━━━━━━━━━━━━━━━━━━━━━━━━━━━━━━\u001b[0m \u001b[32m126.7/126.7 kB\u001b[0m \u001b[31m8.9 MB/s\u001b[0m eta \u001b[36m0:00:00\u001b[0m\n",
            "\u001b[?25hDownloading json_repair-0.41.0-py3-none-any.whl (21 kB)\n",
            "Downloading datasets-3.5.0-py3-none-any.whl (491 kB)\n",
            "\u001b[2K   \u001b[90m━━━━━━━━━━━━━━━━━━━━━━━━━━━━━━━━━━━━━━━━\u001b[0m \u001b[32m491.2/491.2 kB\u001b[0m \u001b[31m23.9 MB/s\u001b[0m eta \u001b[36m0:00:00\u001b[0m\n",
            "\u001b[?25hDownloading backoff-2.2.1-py3-none-any.whl (15 kB)\n",
            "Downloading dill-0.3.8-py3-none-any.whl (116 kB)\n",
            "\u001b[2K   \u001b[90m━━━━━━━━━━━━━━━━━━━━━━━━━━━━━━━━━━━━━━━━\u001b[0m \u001b[32m116.3/116.3 kB\u001b[0m \u001b[31m8.4 MB/s\u001b[0m eta \u001b[36m0:00:00\u001b[0m\n",
            "\u001b[?25hDownloading fsspec-2024.12.0-py3-none-any.whl (183 kB)\n",
            "\u001b[2K   \u001b[90m━━━━━━━━━━━━━━━━━━━━━━━━━━━━━━━━━━━━━━━━\u001b[0m \u001b[32m183.9/183.9 kB\u001b[0m \u001b[31m11.2 MB/s\u001b[0m eta \u001b[36m0:00:00\u001b[0m\n",
            "\u001b[?25hDownloading multiprocess-0.70.16-py311-none-any.whl (143 kB)\n",
            "\u001b[2K   \u001b[90m━━━━━━━━━━━━━━━━━━━━━━━━━━━━━━━━━━━━━━━━\u001b[0m \u001b[32m143.5/143.5 kB\u001b[0m \u001b[31m10.1 MB/s\u001b[0m eta \u001b[36m0:00:00\u001b[0m\n",
            "\u001b[?25hDownloading posthog-3.24.1-py2.py3-none-any.whl (85 kB)\n",
            "\u001b[2K   \u001b[90m━━━━━━━━━━━━━━━━━━━━━━━━━━━━━━━━━━━━━━━━\u001b[0m \u001b[32m85.7/85.7 kB\u001b[0m \u001b[31m5.8 MB/s\u001b[0m eta \u001b[36m0:00:00\u001b[0m\n",
            "\u001b[?25hDownloading rdflib-7.1.4-py3-none-any.whl (565 kB)\n",
            "\u001b[2K   \u001b[90m━━━━━━━━━━━━━━━━━━━━━━━━━━━━━━━━━━━━━━━━\u001b[0m \u001b[32m565.1/565.1 kB\u001b[0m \u001b[31m30.7 MB/s\u001b[0m eta \u001b[36m0:00:00\u001b[0m\n",
            "\u001b[?25hDownloading SPARQLWrapper-2.0.0-py3-none-any.whl (28 kB)\n",
            "Downloading haystack_experimental-0.8.0-py3-none-any.whl (59 kB)\n",
            "\u001b[2K   \u001b[90m━━━━━━━━━━━━━━━━━━━━━━━━━━━━━━━━━━━━━━━━\u001b[0m \u001b[32m59.2/59.2 kB\u001b[0m \u001b[31m3.8 MB/s\u001b[0m eta \u001b[36m0:00:00\u001b[0m\n",
            "\u001b[?25hDownloading lazy_imports-0.4.0-py3-none-any.whl (12 kB)\n",
            "Downloading xxhash-3.5.0-cp311-cp311-manylinux_2_17_x86_64.manylinux2014_x86_64.whl (194 kB)\n",
            "\u001b[2K   \u001b[90m━━━━━━━━━━━━━━━━━━━━━━━━━━━━━━━━━━━━━━━━\u001b[0m \u001b[32m194.8/194.8 kB\u001b[0m \u001b[31m12.9 MB/s\u001b[0m eta \u001b[36m0:00:00\u001b[0m\n",
            "\u001b[?25hDownloading monotonic-1.6-py2.py3-none-any.whl (8.2 kB)\n",
            "Building wheels for collected packages: surf\n",
            "  Building wheel for surf (setup.py) ... \u001b[?25l\u001b[?25hdone\n",
            "  Created wheel for surf: filename=SuRF-1.1.9-py3-none-any.whl size=77744 sha256=b1cf30fed75268ae2d28e473f9c9514449ddb85db530b3cdc7ea0ecfa858b52e\n",
            "  Stored in directory: /root/.cache/pip/wheels/8e/80/fc/0597ca30698d174b766550716913fefb876f775a0b53f8f4f1\n",
            "Successfully built surf\n",
            "Installing collected packages: monotonic, xxhash, rdflib, lazy-imports, json-repair, fsspec, dill, backoff, SPARQLWrapper, posthog, multiprocess, surf, langfuse, groq, datasets, haystack-experimental, haystack-ai, langfuse-haystack\n",
            "  Attempting uninstall: fsspec\n",
            "    Found existing installation: fsspec 2025.3.2\n",
            "    Uninstalling fsspec-2025.3.2:\n",
            "      Successfully uninstalled fsspec-2025.3.2\n",
            "\u001b[31mERROR: pip's dependency resolver does not currently take into account all the packages that are installed. This behaviour is the source of the following dependency conflicts.\n",
            "gcsfs 2025.3.2 requires fsspec==2025.3.2, but you have fsspec 2024.12.0 which is incompatible.\n",
            "torch 2.6.0+cu124 requires nvidia-cublas-cu12==12.4.5.8; platform_system == \"Linux\" and platform_machine == \"x86_64\", but you have nvidia-cublas-cu12 12.5.3.2 which is incompatible.\n",
            "torch 2.6.0+cu124 requires nvidia-cuda-cupti-cu12==12.4.127; platform_system == \"Linux\" and platform_machine == \"x86_64\", but you have nvidia-cuda-cupti-cu12 12.5.82 which is incompatible.\n",
            "torch 2.6.0+cu124 requires nvidia-cuda-nvrtc-cu12==12.4.127; platform_system == \"Linux\" and platform_machine == \"x86_64\", but you have nvidia-cuda-nvrtc-cu12 12.5.82 which is incompatible.\n",
            "torch 2.6.0+cu124 requires nvidia-cuda-runtime-cu12==12.4.127; platform_system == \"Linux\" and platform_machine == \"x86_64\", but you have nvidia-cuda-runtime-cu12 12.5.82 which is incompatible.\n",
            "torch 2.6.0+cu124 requires nvidia-cudnn-cu12==9.1.0.70; platform_system == \"Linux\" and platform_machine == \"x86_64\", but you have nvidia-cudnn-cu12 9.3.0.75 which is incompatible.\n",
            "torch 2.6.0+cu124 requires nvidia-cufft-cu12==11.2.1.3; platform_system == \"Linux\" and platform_machine == \"x86_64\", but you have nvidia-cufft-cu12 11.2.3.61 which is incompatible.\n",
            "torch 2.6.0+cu124 requires nvidia-curand-cu12==10.3.5.147; platform_system == \"Linux\" and platform_machine == \"x86_64\", but you have nvidia-curand-cu12 10.3.6.82 which is incompatible.\n",
            "torch 2.6.0+cu124 requires nvidia-cusolver-cu12==11.6.1.9; platform_system == \"Linux\" and platform_machine == \"x86_64\", but you have nvidia-cusolver-cu12 11.6.3.83 which is incompatible.\n",
            "torch 2.6.0+cu124 requires nvidia-cusparse-cu12==12.3.1.170; platform_system == \"Linux\" and platform_machine == \"x86_64\", but you have nvidia-cusparse-cu12 12.5.1.3 which is incompatible.\n",
            "torch 2.6.0+cu124 requires nvidia-nvjitlink-cu12==12.4.127; platform_system == \"Linux\" and platform_machine == \"x86_64\", but you have nvidia-nvjitlink-cu12 12.5.82 which is incompatible.\u001b[0m\u001b[31m\n",
            "\u001b[0mSuccessfully installed SPARQLWrapper-2.0.0 backoff-2.2.1 datasets-3.5.0 dill-0.3.8 fsspec-2024.12.0 groq-0.22.0 haystack-ai-2.12.1 haystack-experimental-0.8.0 json-repair-0.41.0 langfuse-2.60.2 langfuse-haystack-1.0.0 lazy-imports-0.4.0 monotonic-1.6 multiprocess-0.70.16 posthog-3.24.1 rdflib-7.1.4 surf-1.1.9 xxhash-3.5.0\n"
          ]
        }
      ],
      "source": [
        "!pip install haystack-ai langfuse-haystack langfuse groq surf json-repair datasets"
      ]
    },
    {
      "cell_type": "code",
      "execution_count": 2,
      "metadata": {
        "id": "cs4FE49BIhC5"
      },
      "outputs": [],
      "source": [
        "import json\n",
        "import json_repair\n",
        "import os\n",
        "from pathlib import Path\n",
        "from typing import List, Dict\n",
        "from getpass import getpass"
      ]
    },
    {
      "cell_type": "code",
      "execution_count": 3,
      "metadata": {
        "id": "AfEGLr_dItDb"
      },
      "outputs": [],
      "source": [
        "from haystack import Pipeline, component\n",
        "from haystack.components.generators import OpenAIGenerator\n",
        "from haystack.components.builders import PromptBuilder\n",
        "from haystack.components.websearch.serper_dev import SerperDevWebSearch\n",
        "from haystack.utils import Secret\n",
        "\n",
        "import requests\n",
        "import pandas as pd\n",
        "from pprint import pprint"
      ]
    },
    {
      "cell_type": "markdown",
      "metadata": {
        "id": "QTmc46luJZm7"
      },
      "source": [
        "Gets API keys from environment variables or user input."
      ]
    },
    {
      "cell_type": "code",
      "execution_count": 4,
      "metadata": {
        "colab": {
          "base_uri": "https://localhost:8080/"
        },
        "id": "k67pVoNRI3Mg",
        "outputId": "26deba5b-0f43-4158-a9e4-ec55304ee19d"
      },
      "outputs": [
        {
          "name": "stdout",
          "output_type": "stream",
          "text": [
            "Enter Groq API key:··········\n"
          ]
        }
      ],
      "source": [
        "if \"GROQ_API_KEY\" not in os.environ:\n",
        "    os.environ[\"GROQ_API_KEY\"] = getpass(\"Enter Groq API key:\")"
      ]
    },
    {
      "cell_type": "code",
      "execution_count": 5,
      "metadata": {
        "colab": {
          "base_uri": "https://localhost:8080/"
        },
        "id": "pF5M96b1JUrA",
        "outputId": "40f3c177-4559-451d-ac0d-f413fa50eb70"
      },
      "outputs": [
        {
          "name": "stdout",
          "output_type": "stream",
          "text": [
            "Enter Serper Dev key:··········\n"
          ]
        }
      ],
      "source": [
        "if \"SERPERDEV_API_KEY\" not in os.environ:\n",
        "    os.environ[\"SERPERDEV_API_KEY\"] = getpass(\"Enter Serper Dev key:\")"
      ]
    },
    {
      "cell_type": "code",
      "source": [
        "@component\n",
        "class QuizParser:\n",
        "    \"\"\"Parses the quiz JSON out of the LLM's response.\"\"\"\n",
        "    @component.output_types(quiz=Dict)\n",
        "    def run(self, replies: List[str]):\n",
        "        reply = replies[0]\n",
        "        first_index = min(reply.find(\"{\"), reply.find(\"[\"))\n",
        "        last_index = max(reply.rfind(\"}\"), reply.rfind(\"]\")) + 1\n",
        "        json_portion = reply[first_index:last_index]\n",
        "\n",
        "        try:\n",
        "            quiz = json.loads(json_portion)\n",
        "        except json.JSONDecodeError:\n",
        "            quiz = json_repair.loads(json_portion)\n",
        "        if isinstance(quiz, list):\n",
        "            quiz = quiz[0]\n",
        "        return quiz"
      ],
      "metadata": {
        "id": "NkdSEe4uQgHt"
      },
      "execution_count": 6,
      "outputs": []
    },
    {
      "cell_type": "code",
      "source": [
        "def build_english_quiz_pipeline():\n",
        "    pipeline = Pipeline()\n",
        "    pipeline.add_component(\"websearch\", SerperDevWebSearch(top_k=5))\n",
        "    pipeline.add_component(\n",
        "        \"prompt_builder\",\n",
        "        PromptBuilder(\n",
        "            template=\"\"\"\n",
        "            Given the following - {{text}} - in English language, create 5 multiple choice quizzes in JSON format in English language.\n",
        "            Each question should have 4 different options, and only one of them should be correct.\n",
        "            The options should be unambiguous.\n",
        "            Each option should begin with a letter followed by a period and a space (e.g., \"a. king\").\n",
        "            The question should also briefly mention the general topic of the text so that it can be understood in isolation.\n",
        "            Each question should not give hints to answer the other questions.\n",
        "            Include challenging questions, which require reasoning.\n",
        "            Generate simple english sentences so that they can be easily converted to Sanskrit.\n",
        "\n",
        "            Respond with JSON only, no markdown or descriptions.\n",
        "            The JSON should be entirely in English.\n",
        "\n",
        "            Note that you are able to provide more accurate english sentences because you can understand additional context from web sources.\n",
        "            You are able to use the snippets extracted from the web to excel in your translation.\n",
        "            Only, if you aren't able to find sources on the web that matches the text, then use your knowledge of English grammar.\n",
        "            Provide the link to the source from the web that you might have used.\n",
        "\n",
        "            Example JSON format you should absolutely follow, including the reasoning:\n",
        "\n",
        "            {\n",
        "              \"quiz\": {\n",
        "                \"topic\": \"a sentence explaining the topic of the text\",\n",
        "                \"questions\": [\n",
        "                  {\n",
        "                    \"question\": \"text of the question\",\n",
        "                    \"options\": [\"a. 1st option\", \"b. 2nd option\", \"c. 3rd option\", \"d. 4th option\"],\n",
        "                    \"right_option\": \"c\",\n",
        "                    \"source\": \"I found a source: <paste_actual_link_here> which provided the context for me to properly generate english quiz\"\n",
        "                  }\n",
        "                ]\n",
        "              }\n",
        "            }\n",
        "\n",
        "            Snippets:\n",
        "            {% for doc in documents %}\n",
        "            - snippet: \"{{ doc.content }}\"\n",
        "              link: \"{{ doc.meta.link or doc.meta.url or 'unknown' }}\"\n",
        "            {% endfor %}\n",
        "            \"\"\"\n",
        "        ),\n",
        "    )\n",
        "    pipeline.add_component(\n",
        "        \"generator\",\n",
        "        OpenAIGenerator(\n",
        "            api_key=Secret.from_env_var(\"GROQ_API_KEY\"),\n",
        "            api_base_url=\"https://api.groq.com/openai/v1\",\n",
        "            model=\"llama3-70b-8192\",\n",
        "            generation_kwargs={\n",
        "                \"max_tokens\": 5000,\n",
        "                \"temperature\": 0.5,\n",
        "                \"top_p\": 1,\n",
        "            },\n",
        "        ),\n",
        "    )\n",
        "    pipeline.connect(\"websearch.documents\", \"prompt_builder.documents\")\n",
        "    pipeline.connect(\"prompt_builder\", \"generator\")\n",
        "    return pipeline"
      ],
      "metadata": {
        "id": "0n-4EJiDPgU4"
      },
      "execution_count": 7,
      "outputs": []
    },
    {
      "cell_type": "code",
      "execution_count": 17,
      "metadata": {
        "id": "Tz1AdhW-OLc7",
        "colab": {
          "base_uri": "https://localhost:8080/"
        },
        "outputId": "613cceaa-0483-4494-ec4e-65bd65dbcb86"
      },
      "outputs": [
        {
          "output_type": "stream",
          "name": "stderr",
          "text": [
            "WARNING:haystack.components.builders.prompt_builder:PromptBuilder has 2 prompt variables, but `required_variables` is not set. By default, all prompt variables are treated as optional, which may lead to unintended behavior in multi-branch pipelines. To avoid unexpected execution, ensure that variables intended to be required are explicitly set in `required_variables`.\n"
          ]
        }
      ],
      "source": [
        "english_quiz_generation= (\n",
        "    build_english_quiz_pipeline()\n",
        ")"
      ]
    },
    {
      "cell_type": "code",
      "source": [
        "indic_topic = \"The King’s Monkey Servant\""
      ],
      "metadata": {
        "id": "j-0BfVWb9zWY"
      },
      "execution_count": 7,
      "outputs": []
    },
    {
      "cell_type": "code",
      "source": [
        "indic_text = \"\"\"Title: The King’s Monkey Servant\n",
        "Moral: A king wishing long life should never keep foolish servants.”\n",
        "Story: A king had a monkey as his body-guard. He was very fond of the king, and as he was very much trusted by the king, he could go into the kings’ bed room without being stopped by anyone.\n",
        "Once when the king was sleeping the monkey started breezing the king with a fan. While doing this a fly came and sat on the king’s chest. The monkey tried to ward off the fly with the fan. But the fly would come again and sit on the same place.\n",
        "The monkey due to its foolish nature became angry, got a sharp sword and hit the fly to kill it. The fly flew away but, the king’s chest was divided into two, and the king died.\"\"\""
      ],
      "metadata": {
        "id": "vRP_ms5DTQJG"
      },
      "execution_count": 8,
      "outputs": []
    },
    {
      "cell_type": "code",
      "source": [
        "search = SerperDevWebSearch(top_k=5)\n",
        "results = search.run(query='\"The King’s Monkey Servant\" full story text')\n",
        "\n",
        "for doc in results[\"documents\"]:\n",
        "    print(\"---\")\n",
        "    print(\"Content:\", doc.content)\n",
        "    print(\"Meta:\", doc.meta)"
      ],
      "metadata": {
        "id": "3yIzE2sjbPkX",
        "outputId": "00fa0f66-75ba-47e9-a7af-9a7b642762d7",
        "colab": {
          "base_uri": "https://localhost:8080/"
        }
      },
      "execution_count": 9,
      "outputs": [
        {
          "output_type": "stream",
          "name": "stdout",
          "text": [
            "---\n",
            "Content: H Stories from Panchatantra 3 - The King's Monkey Servant H. = l. U ~ *\\ ~. 7] U 7 ~. 9 7. 7 -. ~ ~ ~. \\ U { 3 , H Stories from Panchatantra 4 \"A king wishing ...\n",
            "Meta: {'title': 'Stories From Panchatantra | PDF | Nature - Scribd', 'link': 'https://ro.scribd.com/doc/66866724/Stories-From-Panchatantra?BWrQpWATE4ftR=709UQ2sssl7sgYw', 'position': 1}\n",
            "---\n",
            "Content: पंचतकथासंमहः <strong>Stories</strong> <strong>from</strong> <strong>Panchatantra</strong><br />. नृपसेवकवानर-कथा<br />. The King's Monkey Servant<br />.\n",
            "Meta: {'title': 'Stories_from_Panchatantra_-_Sanskrit_English - YUMPU', 'link': 'https://www.yumpu.com/en/document/view/36448455/stories-from-panchatantra-sanskrit-english', 'date': 'Jan 29, 2015', 'position': 2}\n",
            "---\n",
            "Content: 4. पंचत कथासंमहः Stories from Panchatantra 3 नृपसेवकवानर-कथा The King's Monkey Servant त ाि रायुिर त नृपेण मूख ऽनुचरो न र िणयः ।\n",
            "Meta: {'title': 'Stories from panchatantra (sanskrit text &amp; english - SlideShare', 'link': 'https://www.slideshare.net/slideshow/stories-from-panchatantra-sanskrit-text-amp-english/241883515', 'date': 'Jan 26, 2021', 'position': 3}\n",
            "---\n",
            "Content: The King's Monkey Servant. \"A king wishing long life should never keep. foolish servants.\" A king had a monkey as his body-guard. He was very fond of the king ...\n",
            "Meta: {'title': 'A King Wishing Long Life Should Never Keep Foolish Servants. | PDF', 'link': 'https://www.scribd.com/document/47642862/new-stories', 'position': 4}\n",
            "---\n",
            "Content: पंचत कथासंमहः Stories from Panchatantra. 3. नृपसेवकवानर-कथा. The King's Monkey Servant. त ाि रायुिर त नृपेण मूख ...\n",
            "Meta: {'title': '[PDF] (Sanskrit Text & English Translation)', 'link': 'https://archive.org/download/Sanskrit_EBooks_Assorted_Titles/Stories%20from%20Panchatantra%20-%20Sanskrit%20English.pdf', 'position': 5}\n"
          ]
        }
      ]
    },
    {
      "cell_type": "code",
      "source": [
        "pipeline = Pipeline()\n",
        "pipeline.add_component(\"websearch\", SerperDevWebSearch(top_k=5))\n",
        "pipeline.add_component(\"prompt_builder\", PromptBuilder(template=\"\"\"\n",
        "            Given the following - {{text}} - in English language, create 5 multiple choice quizzes in JSON format in English language.\n",
        "            Each question should have 4 different options, and only one of them should be correct.\n",
        "            The options should be unambiguous.\n",
        "            Each option should begin with a letter followed by a period and a space (e.g., \"a. king\").\n",
        "            The question should also briefly mention the general topic of the text so that it can be understood in isolation.\n",
        "            Each question should not give hints to answer the other questions.\n",
        "            Include challenging questions, which require reasoning.\n",
        "            Generate simple english sentences so that they can be easily converted to Sanskrit.\n",
        "\n",
        "            Respond with JSON only, no markdown or descriptions.\n",
        "            The JSON should be entirely in English.\n",
        "\n",
        "            Note that you are able to provide more accurate english sentences because you can understand additional context from web sources.\n",
        "            You are able to use the snippets extracted from the web to excel in your translation.\n",
        "            Only, if you aren't able to find sources on the web that matches the text, then use your knowledge of English grammar.\n",
        "            Provide the link to the source from the web that you might have used.\n",
        "\n",
        "            Example JSON format you should absolutely follow, including the reasoning:\n",
        "\n",
        "            {\n",
        "              \"quiz\": {\n",
        "                \"topic\": \"a sentence explaining the topic of the text\",\n",
        "                \"questions\": [\n",
        "                  {\n",
        "                    \"question\": \"text of the question\",\n",
        "                    \"options\": [\"a. 1st option\", \"b. 2nd option\", \"c. 3rd option\", \"d. 4th option\"],\n",
        "                    \"right_option\": \"c\",\n",
        "                    \"source\": \"I found a source: <paste_actual_link_here> which provided the context for me to properly generate english quiz\"\n",
        "                  }\n",
        "                ]\n",
        "              }\n",
        "            }\n",
        "\n",
        "            Snippets:\n",
        "            {% for doc in documents %}\n",
        "            - snippet: \"{{ doc.content }}\"\n",
        "              link: \"{{ doc.meta.link or doc.meta.url or 'unknown' }}\"\n",
        "            {% endfor %}\n",
        "            \"\"\"))\n",
        "\n",
        "pipeline.connect(\"websearch.documents\", \"prompt_builder.documents\")\n",
        "\n",
        "result = pipeline.run({\n",
        "    \"websearch\": {\"query\": '\"The King’s Monkey Servant\" full story text'},\n",
        "    \"prompt_builder\": {\"text\": indic_text}\n",
        "})\n",
        "\n",
        "print(\"\\nGenerated Prompt:\\n\")\n",
        "print(result[\"prompt_builder\"][\"prompt\"])"
      ],
      "metadata": {
        "id": "zjo_NzV8b71c",
        "outputId": "781ce853-3f76-4c9b-b7e8-d6e1bd22a3c0",
        "colab": {
          "base_uri": "https://localhost:8080/"
        }
      },
      "execution_count": 10,
      "outputs": [
        {
          "output_type": "stream",
          "name": "stderr",
          "text": [
            "WARNING:haystack.components.builders.prompt_builder:PromptBuilder has 2 prompt variables, but `required_variables` is not set. By default, all prompt variables are treated as optional, which may lead to unintended behavior in multi-branch pipelines. To avoid unexpected execution, ensure that variables intended to be required are explicitly set in `required_variables`.\n"
          ]
        },
        {
          "output_type": "stream",
          "name": "stdout",
          "text": [
            "\n",
            "Generated Prompt:\n",
            "\n",
            "\n",
            "            Given the following - Title: The King’s Monkey Servant\n",
            "Moral: A king wishing long life should never keep foolish servants.”\n",
            "Story: A king had a monkey as his body-guard. He was very fond of the king, and as he was very much trusted by the king, he could go into the kings’ bed room without being stopped by anyone.\n",
            "Once when the king was sleeping the monkey started breezing the king with a fan. While doing this a fly came and sat on the king’s chest. The monkey tried to ward off the fly with the fan. But the fly would come again and sit on the same place.\n",
            "The monkey due to its foolish nature became angry, got a sharp sword and hit the fly to kill it. The fly flew away but, the king’s chest was divided into two, and the king died. - in English language, create 5 multiple choice quizzes in JSON format in English language.\n",
            "            Each question should have 4 different options, and only one of them should be correct.\n",
            "            The options should be unambiguous.\n",
            "            Each option should begin with a letter followed by a period and a space (e.g., \"a. king\").\n",
            "            The question should also briefly mention the general topic of the text so that it can be understood in isolation.\n",
            "            Each question should not give hints to answer the other questions.\n",
            "            Include challenging questions, which require reasoning.\n",
            "            Generate simple english sentences so that they can be easily converted to Sanskrit.\n",
            "\n",
            "            Respond with JSON only, no markdown or descriptions.\n",
            "            The JSON should be entirely in English.\n",
            "\n",
            "            Note that you are able to provide more accurate english sentences because you can understand additional context from web sources.\n",
            "            You are able to use the snippets extracted from the web to excel in your translation.\n",
            "            Only, if you aren't able to find sources on the web that matches the text, then use your knowledge of English grammar.\n",
            "            Provide the link to the source from the web that you might have used.\n",
            "\n",
            "            Example JSON format you should absolutely follow, including the reasoning:\n",
            "\n",
            "            {\n",
            "              \"quiz\": {\n",
            "                \"topic\": \"a sentence explaining the topic of the text\",\n",
            "                \"questions\": [\n",
            "                  {\n",
            "                    \"question\": \"text of the question\",\n",
            "                    \"options\": [\"a. 1st option\", \"b. 2nd option\", \"c. 3rd option\", \"d. 4th option\"],\n",
            "                    \"right_option\": \"c\",\n",
            "                    \"source\": \"I found a source: <paste_actual_link_here> which provided the context for me to properly generate english quiz\"\n",
            "                  }\n",
            "                ]\n",
            "              }\n",
            "            }\n",
            "\n",
            "            Snippets:\n",
            "            \n",
            "            - snippet: \"H Stories from Panchatantra 3 - The King's Monkey Servant H. = l. U ~ *\\ ~. 7] U 7 ~. 9 7. 7 -. ~ ~ ~. \\ U { 3 , H Stories from Panchatantra 4 \"A king wishing ...\"\n",
            "              link: \"https://ro.scribd.com/doc/66866724/Stories-From-Panchatantra?BWrQpWATE4ftR=709UQ2sssl7sgYw\"\n",
            "            \n",
            "            - snippet: \"पंचतकथासंमहः <strong>Stories</strong> <strong>from</strong> <strong>Panchatantra</strong><br />. नृपसेवकवानर-कथा<br />. The King's Monkey Servant<br />.\"\n",
            "              link: \"https://www.yumpu.com/en/document/view/36448455/stories-from-panchatantra-sanskrit-english\"\n",
            "            \n",
            "            - snippet: \"4. पंचत कथासंमहः Stories from Panchatantra 3 नृपसेवकवानर-कथा The King's Monkey Servant त ाि रायुिर त नृपेण मूख ऽनुचरो न र िणयः ।\"\n",
            "              link: \"https://www.slideshare.net/slideshow/stories-from-panchatantra-sanskrit-text-amp-english/241883515\"\n",
            "            \n",
            "            - snippet: \"The King's Monkey Servant. \"A king wishing long life should never keep. foolish servants.\" A king had a monkey as his body-guard. He was very fond of the king ...\"\n",
            "              link: \"https://www.scribd.com/document/47642862/new-stories\"\n",
            "            \n",
            "            - snippet: \"पंचत कथासंमहः Stories from Panchatantra. 3. नृपसेवकवानर-कथा. The King's Monkey Servant. त ाि रायुिर त नृपेण मूख ...\"\n",
            "              link: \"https://archive.org/download/Sanskrit_EBooks_Assorted_Titles/Stories%20from%20Panchatantra%20-%20Sanskrit%20English.pdf\"\n",
            "            \n",
            "            \n"
          ]
        }
      ]
    },
    {
      "cell_type": "code",
      "source": [
        "for doc in results[\"documents\"]:\n",
        "    print(doc.__dict__)"
      ],
      "metadata": {
        "id": "HIZcyC6Hcpde",
        "outputId": "2534ccad-ffad-4535-dcaf-df362b314b1d",
        "colab": {
          "base_uri": "https://localhost:8080/"
        }
      },
      "execution_count": 23,
      "outputs": [
        {
          "output_type": "stream",
          "name": "stdout",
          "text": [
            "{'id': '10cccbdfb99bc6ed56374251006aeb3e6f154745cdfbb734aa1a6edd720cf211', 'content': \"Published by: http://Sanskritebooks.wordpress. com (Sanskrit Text & English Translation) ... The King's Monkey Servant H. = l. U ~ *\\\\ ~. 7] U 7 ~. 9 7. 7 -. ~ ~ ~.\", 'blob': None, 'meta': {'title': 'Stories From Panchatantra | PDF | Nature - Scribd', 'link': 'https://ro.scribd.com/doc/66866724/Stories-From-Panchatantra?BWrQpWATE4ftR=709UQ2sssl7sgYw', 'position': 1}, 'score': None, 'embedding': None, 'sparse_embedding': None}\n",
            "{'id': '090155ab205e5bcd81b32ea0c01e10bc25c12cc321788dbeb81c8dfad65c82b9', 'content': \"पंचतकथासंमहः <strong>Stories</strong> <strong>from</strong> <strong>Panchatantra</strong><br />. नृपसेवकवानर-कथा<br />. The King's Monkey Servant<br />.\", 'blob': None, 'meta': {'title': 'Stories_from_Panchatantra_-_Sanskrit_English - YUMPU', 'link': 'https://www.yumpu.com/en/document/view/36448455/stories-from-panchatantra-sanskrit-english', 'date': 'Jan 29, 2015', 'position': 2}, 'score': None, 'embedding': None, 'sparse_embedding': None}\n",
            "{'id': '8d508756a6615e8116362f713d3a820a398851d19b3381c36e2c101f3fd5a344', 'content': \"4. पंचत कथासंमहः Stories from Panchatantra 3 नृपसेवकवानर-कथा The King's Monkey Servant त ाि रायुिर त नृपेण मूख ऽनुचरो न र िणयः ।\", 'blob': None, 'meta': {'title': 'Stories from panchatantra (sanskrit text &amp; english - SlideShare', 'link': 'https://www.slideshare.net/slideshow/stories-from-panchatantra-sanskrit-text-amp-english/241883515', 'date': 'Jan 26, 2021', 'position': 3}, 'score': None, 'embedding': None, 'sparse_embedding': None}\n",
            "{'id': '0d3626afedae23d6545f76839337f0de0d2e9c592efd174e8dff89cc16f22b7f', 'content': 'The King\\'s Monkey Servant. \"A king wishing long life should never keep. foolish servants.\" A king had a monkey as his body-guard. He was very fond of the king ...', 'blob': None, 'meta': {'title': 'A King Wishing Long Life Should Never Keep Foolish Servants. | PDF', 'link': 'https://www.scribd.com/document/47642862/new-stories', 'position': 4}, 'score': None, 'embedding': None, 'sparse_embedding': None}\n",
            "{'id': 'f35fae18503e545c9b27113d8ca479b6bff6a633e91405cc4ec247c89352f5af', 'content': \"The King's Monkey Servant. त ाि रायुिर त नृपेण मूख ... He reached upon an idea and then went to a lake full of frogs and moved about hither and thither restlessly.\", 'blob': None, 'meta': {'title': '[PDF] (Sanskrit Text & English Translation)', 'link': 'https://archive.org/download/Sanskrit_EBooks_Assorted_Titles/Stories%20from%20Panchatantra%20-%20Sanskrit%20English.pdf', 'position': 5}, 'score': None, 'embedding': None, 'sparse_embedding': None}\n"
          ]
        }
      ]
    },
    {
      "cell_type": "code",
      "execution_count": 19,
      "metadata": {
        "id": "jFXhe51wRnsb",
        "outputId": "1ecde951-42e0-47bf-cd0f-70d2ffaef9b5",
        "colab": {
          "base_uri": "https://localhost:8080/",
          "height": 216
        }
      },
      "outputs": [
        {
          "output_type": "error",
          "ename": "TypeError",
          "evalue": "Pipeline.run() got an unexpected keyword argument 'debug'",
          "traceback": [
            "\u001b[0;31m---------------------------------------------------------------------------\u001b[0m",
            "\u001b[0;31mTypeError\u001b[0m                                 Traceback (most recent call last)",
            "\u001b[0;32m<ipython-input-19-8fc0e71d0a2c>\u001b[0m in \u001b[0;36m<cell line: 0>\u001b[0;34m()\u001b[0m\n\u001b[0;32m----> 1\u001b[0;31m english_quiz = english_quiz_generation.run(\n\u001b[0m\u001b[1;32m      2\u001b[0m     data={\n\u001b[1;32m      3\u001b[0m         \u001b[0;34m\"websearch\"\u001b[0m\u001b[0;34m:\u001b[0m \u001b[0;34m{\u001b[0m\u001b[0;34m\"query\"\u001b[0m\u001b[0;34m:\u001b[0m \u001b[0;34mf\"\"\"{indic_topic} full story text.\"\"\"\u001b[0m\u001b[0;34m}\u001b[0m\u001b[0;34m,\u001b[0m\u001b[0;34m\u001b[0m\u001b[0;34m\u001b[0m\u001b[0m\n\u001b[1;32m      4\u001b[0m         \"prompt_builder\": {\n\u001b[1;32m      5\u001b[0m             \u001b[0;34m\"text\"\u001b[0m\u001b[0;34m:\u001b[0m \u001b[0mindic_text\u001b[0m\u001b[0;34m\u001b[0m\u001b[0;34m\u001b[0m\u001b[0m\n",
            "\u001b[0;31mTypeError\u001b[0m: Pipeline.run() got an unexpected keyword argument 'debug'"
          ]
        }
      ],
      "source": [
        "english_quiz = english_quiz_generation.run(\n",
        "    data={\n",
        "        \"websearch\": {\"query\": f\"\"\"{indic_topic} full story text.\"\"\"},\n",
        "        \"prompt_builder\": {\n",
        "            \"text\": indic_text\n",
        "        }\n",
        "    },\n",
        "    debug=True,\n",
        ")"
      ]
    },
    {
      "cell_type": "code",
      "source": [
        "parser = QuizParser()"
      ],
      "metadata": {
        "id": "-OhH6PoKUcVb"
      },
      "execution_count": 15,
      "outputs": []
    },
    {
      "cell_type": "code",
      "execution_count": 16,
      "metadata": {
        "colab": {
          "base_uri": "https://localhost:8080/"
        },
        "id": "WmLM4jETRw3c",
        "outputId": "9c0dcede-4ed5-4a3a-c39d-596847c5dd6d"
      },
      "outputs": [
        {
          "output_type": "stream",
          "name": "stdout",
          "text": [
            "{'quiz': {'questions': [{'options': ['a. The king was afraid of the monkey',\n",
            "                                     'b. The king was very fond of the monkey',\n",
            "                                     'c. The king hated the monkey',\n",
            "                                     'd. The king was indifferent to the '\n",
            "                                     'monkey'],\n",
            "                         'question': \"What was the king's relationship with \"\n",
            "                                     'the monkey?',\n",
            "                         'right_option': 'b',\n",
            "                         'source': 'I used my knowledge of English grammar to '\n",
            "                                   'generate this question'},\n",
            "                        {'options': ['a. Playing with the king',\n",
            "                                     'b. Breezing the king with a fan',\n",
            "                                     'c. Eating food',\n",
            "                                     'd. Sleeping'],\n",
            "                         'question': 'What was the monkey doing when the fly '\n",
            "                                     'came?',\n",
            "                         'right_option': 'b',\n",
            "                         'source': \"I used the snippet: 'Once when the king \"\n",
            "                                   'was sleeping the monkey started breezing '\n",
            "                                   \"the king with a fan.'\"},\n",
            "                        {'options': ['a. A sharp sword',\n",
            "                                     'b. A soft pillow',\n",
            "                                     'c. A gentle hand',\n",
            "                                     'd. A loud shout'],\n",
            "                         'question': 'What did the monkey use to try to kill '\n",
            "                                     'the fly?',\n",
            "                         'right_option': 'a',\n",
            "                         'source': \"I used the snippet: 'The monkey tried to \"\n",
            "                                   'ward off the fly with the fan. But the fly '\n",
            "                                   'would come again and sit on the same '\n",
            "                                   'place. The monkey due to its foolish '\n",
            "                                   'nature became angry, got a sharp sword and '\n",
            "                                   \"hit the fly to kill it.'\"},\n",
            "                        {'options': ['a. The king woke up from his sleep',\n",
            "                                     'b. The fly was killed',\n",
            "                                     \"c. The king's chest was divided into \"\n",
            "                                     'two, and the king died',\n",
            "                                     'd. The monkey was praised by the king'],\n",
            "                         'question': \"What was the consequence of the monkey's \"\n",
            "                                     'action?',\n",
            "                         'right_option': 'c',\n",
            "                         'source': \"I used the snippet: 'The fly flew away \"\n",
            "                                   'but, the king’s chest was divided into '\n",
            "                                   \"two, and the king died.'\"},\n",
            "                        {'options': ['a. A king should always keep a monkey as '\n",
            "                                     'a pet',\n",
            "                                     'b. A king should never trust his '\n",
            "                                     'servants',\n",
            "                                     'c. A king wishing long life should never '\n",
            "                                     'keep foolish servants',\n",
            "                                     'd. A king should always sleep with a '\n",
            "                                     'fan'],\n",
            "                         'question': 'What is the moral of the story?',\n",
            "                         'right_option': 'c',\n",
            "                         'source': \"I used the snippet: 'Moral: A king wishing \"\n",
            "                                   'long life should never keep foolish '\n",
            "                                   \"servants.'\"}],\n",
            "          'topic': 'A story about a king and his foolish monkey servant'}}\n"
          ]
        }
      ],
      "source": [
        "english_quiz_text = parser.run(replies=english_quiz['generator']['replies'])\n",
        "pprint(english_quiz_text)"
      ]
    }
  ],
  "metadata": {
    "colab": {
      "provenance": [],
      "authorship_tag": "ABX9TyNbiYsLesvuYu7reQdUBsAS",
      "include_colab_link": true
    },
    "kernelspec": {
      "display_name": "Python 3",
      "name": "python3"
    },
    "language_info": {
      "name": "python"
    }
  },
  "nbformat": 4,
  "nbformat_minor": 0
}