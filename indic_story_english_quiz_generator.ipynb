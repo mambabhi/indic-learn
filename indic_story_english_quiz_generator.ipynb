{
  "cells": [
    {
      "cell_type": "markdown",
      "metadata": {
        "id": "view-in-github",
        "colab_type": "text"
      },
      "source": [
        "<a href=\"https://colab.research.google.com/github/mambabhi/indic-learn/blob/main/indic_story_english_quiz_generator.ipynb\" target=\"_parent\"><img src=\"https://colab.research.google.com/assets/colab-badge.svg\" alt=\"Open In Colab\"/></a>"
      ]
    },
    {
      "cell_type": "code",
      "source": [
        "!mkdir -p indic-quiz/backend"
      ],
      "metadata": {
        "id": "znkHtWT02LJ3"
      },
      "execution_count": 4,
      "outputs": []
    },
    {
      "cell_type": "code",
      "source": [
        "%%writefile indic-quiz/backend/haystack_pipeline.py"
      ],
      "metadata": {
        "colab": {
          "base_uri": "https://localhost:8080/"
        },
        "id": "yMaLVquq6CRO",
        "outputId": "530c04a4-6d3e-4fdc-f4a9-ebeb80ab80fd"
      },
      "execution_count": 5,
      "outputs": [
        {
          "output_type": "stream",
          "name": "stdout",
          "text": [
            "Writing indic-quiz/backend/haystack_pipeline.py\n"
          ]
        }
      ]
    },
    {
      "cell_type": "code",
      "execution_count": 6,
      "metadata": {
        "colab": {
          "base_uri": "https://localhost:8080/"
        },
        "collapsed": true,
        "id": "8_fkWY3_-ywd",
        "outputId": "ffa50707-eb4d-4fa4-e100-29d09fd6d3e1"
      },
      "outputs": [
        {
          "output_type": "stream",
          "name": "stdout",
          "text": [
            "Requirement already satisfied: haystack-ai in /usr/local/lib/python3.11/dist-packages (2.12.1)\n",
            "Requirement already satisfied: langfuse-haystack in /usr/local/lib/python3.11/dist-packages (0.10.0)\n",
            "Requirement already satisfied: langfuse in /usr/local/lib/python3.11/dist-packages (2.60.2)\n",
            "Requirement already satisfied: groq in /usr/local/lib/python3.11/dist-packages (0.22.0)\n",
            "Requirement already satisfied: surf in /usr/local/lib/python3.11/dist-packages (1.1.9)\n",
            "Requirement already satisfied: json-repair in /usr/local/lib/python3.11/dist-packages (0.41.0)\n",
            "Requirement already satisfied: datasets in /usr/local/lib/python3.11/dist-packages (3.5.0)\n",
            "Requirement already satisfied: haystack-experimental in /usr/local/lib/python3.11/dist-packages (from haystack-ai) (0.8.0)\n",
            "Requirement already satisfied: jinja2 in /usr/local/lib/python3.11/dist-packages (from haystack-ai) (3.1.6)\n",
            "Requirement already satisfied: jsonschema in /usr/local/lib/python3.11/dist-packages (from haystack-ai) (4.23.0)\n",
            "Requirement already satisfied: lazy-imports in /usr/local/lib/python3.11/dist-packages (from haystack-ai) (0.4.0)\n",
            "Requirement already satisfied: more-itertools in /usr/local/lib/python3.11/dist-packages (from haystack-ai) (10.6.0)\n",
            "Requirement already satisfied: networkx in /usr/local/lib/python3.11/dist-packages (from haystack-ai) (3.4.2)\n",
            "Requirement already satisfied: numpy in /usr/local/lib/python3.11/dist-packages (from haystack-ai) (2.0.2)\n",
            "Requirement already satisfied: openai>=1.56.1 in /usr/local/lib/python3.11/dist-packages (from haystack-ai) (1.70.0)\n",
            "Requirement already satisfied: posthog!=3.12.0 in /usr/local/lib/python3.11/dist-packages (from haystack-ai) (3.24.0)\n",
            "Requirement already satisfied: pydantic in /usr/local/lib/python3.11/dist-packages (from haystack-ai) (2.11.2)\n",
            "Requirement already satisfied: python-dateutil in /usr/local/lib/python3.11/dist-packages (from haystack-ai) (2.8.2)\n",
            "Requirement already satisfied: pyyaml in /usr/local/lib/python3.11/dist-packages (from haystack-ai) (6.0.2)\n",
            "Requirement already satisfied: requests in /usr/local/lib/python3.11/dist-packages (from haystack-ai) (2.32.3)\n",
            "Requirement already satisfied: tenacity!=8.4.0 in /usr/local/lib/python3.11/dist-packages (from haystack-ai) (9.1.2)\n",
            "Requirement already satisfied: tqdm in /usr/local/lib/python3.11/dist-packages (from haystack-ai) (4.67.1)\n",
            "Requirement already satisfied: typing-extensions>=4.7 in /usr/local/lib/python3.11/dist-packages (from haystack-ai) (4.13.1)\n",
            "Requirement already satisfied: anyio<5.0.0,>=4.4.0 in /usr/local/lib/python3.11/dist-packages (from langfuse) (4.9.0)\n",
            "Requirement already satisfied: backoff>=1.10.0 in /usr/local/lib/python3.11/dist-packages (from langfuse) (2.2.1)\n",
            "Requirement already satisfied: httpx<1.0,>=0.15.4 in /usr/local/lib/python3.11/dist-packages (from langfuse) (0.28.1)\n",
            "Requirement already satisfied: idna<4.0,>=3.7 in /usr/local/lib/python3.11/dist-packages (from langfuse) (3.10)\n",
            "Requirement already satisfied: packaging<25.0,>=23.2 in /usr/local/lib/python3.11/dist-packages (from langfuse) (24.2)\n",
            "Requirement already satisfied: wrapt<2.0,>=1.14 in /usr/local/lib/python3.11/dist-packages (from langfuse) (1.17.2)\n",
            "Requirement already satisfied: distro<2,>=1.7.0 in /usr/local/lib/python3.11/dist-packages (from groq) (1.9.0)\n",
            "Requirement already satisfied: sniffio in /usr/local/lib/python3.11/dist-packages (from groq) (1.3.1)\n",
            "Requirement already satisfied: rdflib>=4.2.1 in /usr/local/lib/python3.11/dist-packages (from surf) (7.1.4)\n",
            "Requirement already satisfied: SPARQLWrapper>=1.7.6 in /usr/local/lib/python3.11/dist-packages (from surf) (2.0.0)\n",
            "Requirement already satisfied: filelock in /usr/local/lib/python3.11/dist-packages (from datasets) (3.18.0)\n",
            "Requirement already satisfied: pyarrow>=15.0.0 in /usr/local/lib/python3.11/dist-packages (from datasets) (18.1.0)\n",
            "Requirement already satisfied: dill<0.3.9,>=0.3.0 in /usr/local/lib/python3.11/dist-packages (from datasets) (0.3.8)\n",
            "Requirement already satisfied: pandas in /usr/local/lib/python3.11/dist-packages (from datasets) (2.2.2)\n",
            "Requirement already satisfied: xxhash in /usr/local/lib/python3.11/dist-packages (from datasets) (3.5.0)\n",
            "Requirement already satisfied: multiprocess<0.70.17 in /usr/local/lib/python3.11/dist-packages (from datasets) (0.70.16)\n",
            "Requirement already satisfied: fsspec<=2024.12.0,>=2023.1.0 in /usr/local/lib/python3.11/dist-packages (from fsspec[http]<=2024.12.0,>=2023.1.0->datasets) (2024.12.0)\n",
            "Requirement already satisfied: aiohttp in /usr/local/lib/python3.11/dist-packages (from datasets) (3.11.15)\n",
            "Requirement already satisfied: huggingface-hub>=0.24.0 in /usr/local/lib/python3.11/dist-packages (from datasets) (0.30.1)\n",
            "Requirement already satisfied: aiohappyeyeballs>=2.3.0 in /usr/local/lib/python3.11/dist-packages (from aiohttp->datasets) (2.6.1)\n",
            "Requirement already satisfied: aiosignal>=1.1.2 in /usr/local/lib/python3.11/dist-packages (from aiohttp->datasets) (1.3.2)\n",
            "Requirement already satisfied: attrs>=17.3.0 in /usr/local/lib/python3.11/dist-packages (from aiohttp->datasets) (25.3.0)\n",
            "Requirement already satisfied: frozenlist>=1.1.1 in /usr/local/lib/python3.11/dist-packages (from aiohttp->datasets) (1.5.0)\n",
            "Requirement already satisfied: multidict<7.0,>=4.5 in /usr/local/lib/python3.11/dist-packages (from aiohttp->datasets) (6.3.2)\n",
            "Requirement already satisfied: propcache>=0.2.0 in /usr/local/lib/python3.11/dist-packages (from aiohttp->datasets) (0.3.1)\n",
            "Requirement already satisfied: yarl<2.0,>=1.17.0 in /usr/local/lib/python3.11/dist-packages (from aiohttp->datasets) (1.18.3)\n",
            "Requirement already satisfied: certifi in /usr/local/lib/python3.11/dist-packages (from httpx<1.0,>=0.15.4->langfuse) (2025.1.31)\n",
            "Requirement already satisfied: httpcore==1.* in /usr/local/lib/python3.11/dist-packages (from httpx<1.0,>=0.15.4->langfuse) (1.0.7)\n",
            "Requirement already satisfied: h11<0.15,>=0.13 in /usr/local/lib/python3.11/dist-packages (from httpcore==1.*->httpx<1.0,>=0.15.4->langfuse) (0.14.0)\n",
            "Requirement already satisfied: jiter<1,>=0.4.0 in /usr/local/lib/python3.11/dist-packages (from openai>=1.56.1->haystack-ai) (0.9.0)\n",
            "Requirement already satisfied: six>=1.5 in /usr/local/lib/python3.11/dist-packages (from posthog!=3.12.0->haystack-ai) (1.17.0)\n",
            "Requirement already satisfied: monotonic>=1.5 in /usr/local/lib/python3.11/dist-packages (from posthog!=3.12.0->haystack-ai) (1.6)\n",
            "Requirement already satisfied: annotated-types>=0.6.0 in /usr/local/lib/python3.11/dist-packages (from pydantic->haystack-ai) (0.7.0)\n",
            "Requirement already satisfied: pydantic-core==2.33.1 in /usr/local/lib/python3.11/dist-packages (from pydantic->haystack-ai) (2.33.1)\n",
            "Requirement already satisfied: typing-inspection>=0.4.0 in /usr/local/lib/python3.11/dist-packages (from pydantic->haystack-ai) (0.4.0)\n",
            "Requirement already satisfied: pyparsing<4,>=2.1.0 in /usr/local/lib/python3.11/dist-packages (from rdflib>=4.2.1->surf) (3.2.3)\n",
            "Requirement already satisfied: charset-normalizer<4,>=2 in /usr/local/lib/python3.11/dist-packages (from requests->haystack-ai) (3.4.1)\n",
            "Requirement already satisfied: urllib3<3,>=1.21.1 in /usr/local/lib/python3.11/dist-packages (from requests->haystack-ai) (2.3.0)\n",
            "Requirement already satisfied: MarkupSafe>=2.0 in /usr/local/lib/python3.11/dist-packages (from jinja2->haystack-ai) (3.0.2)\n",
            "Requirement already satisfied: jsonschema-specifications>=2023.03.6 in /usr/local/lib/python3.11/dist-packages (from jsonschema->haystack-ai) (2024.10.1)\n",
            "Requirement already satisfied: referencing>=0.28.4 in /usr/local/lib/python3.11/dist-packages (from jsonschema->haystack-ai) (0.36.2)\n",
            "Requirement already satisfied: rpds-py>=0.7.1 in /usr/local/lib/python3.11/dist-packages (from jsonschema->haystack-ai) (0.24.0)\n",
            "Requirement already satisfied: pytz>=2020.1 in /usr/local/lib/python3.11/dist-packages (from pandas->datasets) (2025.2)\n",
            "Requirement already satisfied: tzdata>=2022.7 in /usr/local/lib/python3.11/dist-packages (from pandas->datasets) (2025.2)\n"
          ]
        }
      ],
      "source": [
        "!pip install haystack-ai langfuse-haystack langfuse groq surf json-repair datasets"
      ]
    },
    {
      "cell_type": "code",
      "execution_count": 7,
      "metadata": {
        "id": "cs4FE49BIhC5"
      },
      "outputs": [],
      "source": [
        "import json\n",
        "import json_repair\n",
        "import os\n",
        "from pathlib import Path\n",
        "from typing import List, Dict\n",
        "from getpass import getpass"
      ]
    },
    {
      "cell_type": "code",
      "execution_count": 9,
      "metadata": {
        "id": "AfEGLr_dItDb"
      },
      "outputs": [],
      "source": [
        "from haystack import Pipeline, component\n",
        "from haystack.components.generators import OpenAIGenerator\n",
        "from haystack.components.builders import PromptBuilder\n",
        "from haystack.components.websearch.serper_dev import SerperDevWebSearch\n",
        "from haystack.utils import Secret\n",
        "\n",
        "import requests\n",
        "import pandas as pd\n",
        "from pprint import pprint"
      ]
    },
    {
      "cell_type": "markdown",
      "metadata": {
        "id": "QTmc46luJZm7"
      },
      "source": [
        "Gets API keys from environment variables or user input."
      ]
    },
    {
      "cell_type": "code",
      "execution_count": 12,
      "metadata": {
        "colab": {
          "base_uri": "https://localhost:8080/"
        },
        "id": "k67pVoNRI3Mg",
        "outputId": "a82f684c-1639-4b64-fc4a-13c16499bad7"
      },
      "outputs": [
        {
          "name": "stdout",
          "output_type": "stream",
          "text": [
            "Enter Groq API key:··········\n"
          ]
        }
      ],
      "source": [
        "if \"GROQ_API_KEY\" not in os.environ:\n",
        "    os.environ[\"GROQ_API_KEY\"] = getpass(\"Enter Groq API key:\")"
      ]
    },
    {
      "cell_type": "code",
      "execution_count": 13,
      "metadata": {
        "colab": {
          "base_uri": "https://localhost:8080/"
        },
        "id": "pF5M96b1JUrA",
        "outputId": "aa9fb704-3861-4326-914b-3dc911ccbdd8"
      },
      "outputs": [
        {
          "name": "stdout",
          "output_type": "stream",
          "text": [
            "Enter Serper Dev key:··········\n"
          ]
        }
      ],
      "source": [
        "if \"SERPERDEV_API_KEY\" not in os.environ:\n",
        "    os.environ[\"SERPERDEV_API_KEY\"] = getpass(\"Enter Serper Dev key:\")"
      ]
    },
    {
      "cell_type": "code",
      "source": [
        "@component\n",
        "class QuizParser:\n",
        "    \"\"\"Parses the quiz JSON out of the LLM's response.\"\"\"\n",
        "    @component.output_types(quiz=Dict)\n",
        "    def run(self, replies: List[str]):\n",
        "        reply = replies[0]\n",
        "        first_index = min(reply.find(\"{\"), reply.find(\"[\"))\n",
        "        last_index = max(reply.rfind(\"}\"), reply.rfind(\"]\")) + 1\n",
        "        json_portion = reply[first_index:last_index]\n",
        "\n",
        "        try:\n",
        "            quiz = json.loads(json_portion)\n",
        "        except json.JSONDecodeError:\n",
        "            quiz = json_repair.loads(json_portion)\n",
        "        if isinstance(quiz, list):\n",
        "            quiz = quiz[0]\n",
        "        return quiz"
      ],
      "metadata": {
        "id": "NkdSEe4uQgHt"
      },
      "execution_count": 10,
      "outputs": []
    },
    {
      "cell_type": "code",
      "source": [
        "def build_english_quiz_pipeline():\n",
        "    pipeline = Pipeline()\n",
        "    pipeline.add_component(\"websearch\", SerperDevWebSearch(top_k=5))\n",
        "    pipeline.add_component(\n",
        "        \"prompt_builder\",\n",
        "        PromptBuilder(\n",
        "            template=\"\"\"\n",
        "            Given the following - {{text}} - in English language, create 5 multiple choice quizzes in JSON format in English language.\n",
        "            Each question should have 4 different options, and only one of them should be correct.\n",
        "            The options should be unambiguous.\n",
        "            Each option should begin with a letter followed by a period and a space (e.g., \"a. king\").\n",
        "            The question should also briefly mention the general topic of the text so that it can be understood in isolation.\n",
        "            Each question should not give hints to answer the other questions.\n",
        "            Include challenging questions, which require reasoning.\n",
        "            Generate simple english sentences so that they can be easily converted to Sanskrit.\n",
        "\n",
        "            Respond with JSON only, no markdown or descriptions.\n",
        "            The JSON should be entirely in English.\n",
        "\n",
        "            Note that you are able to provide more accurate english sentences because you can understand additional context from web sources.\n",
        "            You are able to use the snippets extracted from the web to excel in your translation.\n",
        "            Only, if you aren't able to find sources on the web that matches the text, then use your knowledge of English grammar.\n",
        "            Provide the link to the source from the web that you might have used.\n",
        "\n",
        "            Example JSON format you should absolutely follow, including the reasoning:\n",
        "\n",
        "            {\n",
        "              \"quiz\": {\n",
        "                \"topic\": \"a sentence explaining the topic of the text\",\n",
        "                \"questions\": [\n",
        "                  {\n",
        "                    \"question\": \"text of the question\",\n",
        "                    \"options\": [\"a. 1st option\", \"b. 2nd option\", \"c. 3rd option\", \"d. 4th option\"],\n",
        "                    \"right_option\": \"c\",\n",
        "                    \"source\": \"I found a source: <paste_actual_link_here> which provided the context for me to properly generate english quiz\"\n",
        "                  }\n",
        "                ]\n",
        "              }\n",
        "            }\n",
        "\n",
        "            Snippets:\n",
        "            {% for doc in documents %}\n",
        "            - snippet: \"{{doc.content}}\"\n",
        "            {% endfor %}\n",
        "            \"\"\"\n",
        "        ),\n",
        "    )\n",
        "    pipeline.add_component(\n",
        "        \"generator\",\n",
        "        OpenAIGenerator(\n",
        "            api_key=Secret.from_env_var(\"GROQ_API_KEY\"),\n",
        "            api_base_url=\"https://api.groq.com/openai/v1\",\n",
        "            model=\"llama3-70b-8192\",\n",
        "            generation_kwargs={\n",
        "                \"max_tokens\": 5000,\n",
        "                \"temperature\": 0.5,\n",
        "                \"top_p\": 1,\n",
        "            },\n",
        "        ),\n",
        "    )\n",
        "    pipeline.connect(\"websearch.documents\", \"prompt_builder.documents\")\n",
        "    pipeline.connect(\"prompt_builder\", \"generator\")\n",
        "    return pipeline"
      ],
      "metadata": {
        "id": "0n-4EJiDPgU4"
      },
      "execution_count": 33,
      "outputs": []
    },
    {
      "cell_type": "code",
      "execution_count": 24,
      "metadata": {
        "id": "Tz1AdhW-OLc7",
        "colab": {
          "base_uri": "https://localhost:8080/"
        },
        "outputId": "504ecbd8-b7e5-4b2e-fc72-1ae85e8fdfc6"
      },
      "outputs": [
        {
          "output_type": "stream",
          "name": "stderr",
          "text": [
            "WARNING:haystack.components.builders.prompt_builder:PromptBuilder has 2 prompt variables, but `required_variables` is not set. By default, all prompt variables are treated as optional, which may lead to unintended behavior in multi-branch pipelines. To avoid unexpected execution, ensure that variables intended to be required are explicitly set in `required_variables`.\n"
          ]
        }
      ],
      "source": [
        "english__quiz_generation= (\n",
        "    build_english_quiz_pipeline()\n",
        ")"
      ]
    },
    {
      "cell_type": "code",
      "source": [
        "indic_topic = \"The King’s Monkey Servant\""
      ],
      "metadata": {
        "id": "j-0BfVWb9zWY"
      },
      "execution_count": 25,
      "outputs": []
    },
    {
      "cell_type": "code",
      "source": [
        "indic_text = \"\"\"Title: The King’s Monkey Servant\n",
        "Moral: A king wishing long life should never keep foolish servants.”\n",
        "Story: A king had a monkey as his body-guard. He was very fond of the king, and as he was very much trusted by the king, he could go into the kings’ bed room without being stopped by anyone.\n",
        "Once when the king was sleeping the monkey started breezing the king with a fan. While doing this a fly came and sat on the king’s chest. The monkey tried to ward off the fly with the fan. But the fly would come again and sit on the same place.\n",
        "The monkey due to its foolish nature became angry, got a sharp sword and hit the fly to kill it. The fly flew away but, the king’s chest was divided into two, and the king died.\"\"\""
      ],
      "metadata": {
        "id": "vRP_ms5DTQJG"
      },
      "execution_count": 26,
      "outputs": []
    },
    {
      "cell_type": "code",
      "execution_count": 30,
      "metadata": {
        "id": "jFXhe51wRnsb"
      },
      "outputs": [],
      "source": [
        "english_quiz = english__quiz_generation.run(\n",
        "    data={\n",
        "        \"websearch\": {\"query\": f\"\"\"\n",
        "          Find some knowledgeable web sources to understand the context of the topic of the indic story: \"{indic_topic}\".\n",
        "        \"\"\"},\n",
        "        \"prompt_builder\": {\n",
        "            \"text\": indic_text\n",
        "        }\n",
        "    }\n",
        ")"
      ]
    },
    {
      "cell_type": "code",
      "source": [
        "parser = QuizParser()"
      ],
      "metadata": {
        "id": "-OhH6PoKUcVb"
      },
      "execution_count": 31,
      "outputs": []
    },
    {
      "cell_type": "code",
      "execution_count": 32,
      "metadata": {
        "colab": {
          "base_uri": "https://localhost:8080/"
        },
        "id": "WmLM4jETRw3c",
        "outputId": "48f1e620-35e0-4f19-9f16-2e5048285c5c"
      },
      "outputs": [
        {
          "output_type": "stream",
          "name": "stdout",
          "text": [
            "{'quiz': {'questions': [{'options': ['a. Cook',\n",
            "                                     'b. Bodyguard',\n",
            "                                     'c. Advisor',\n",
            "                                     'd. Messenger'],\n",
            "                         'question': \"What was the monkey's role in the king's \"\n",
            "                                     'palace?',\n",
            "                         'right_option': 'b',\n",
            "                         'sources': ''},\n",
            "                        {'options': ['a. To wake the king up',\n",
            "                                     'b. To kill a fly',\n",
            "                                     'c. To test the sword',\n",
            "                                     'd. To play a prank'],\n",
            "                         'question': \"Why did the monkey hit the king's chest \"\n",
            "                                     'with a sword?',\n",
            "                         'right_option': 'b',\n",
            "                         'sources': ''},\n",
            "                        {'options': ['a. A mosquito',\n",
            "                                     'b. A fly',\n",
            "                                     'c. A bee',\n",
            "                                     'd. A spider'],\n",
            "                         'question': 'What was the monkey trying to ward off '\n",
            "                                     'with a fan?',\n",
            "                         'right_option': 'b',\n",
            "                         'sources': ''},\n",
            "                        {'options': ['a. The king woke up',\n",
            "                                     'b. The king got angry',\n",
            "                                     'c. The king died',\n",
            "                                     'd. The king laughed'],\n",
            "                         'question': \"What was the consequence of the monkey's \"\n",
            "                                     'action?',\n",
            "                         'right_option': 'c',\n",
            "                         'sources': ''},\n",
            "                        {'options': ['a. A king should keep many servants',\n",
            "                                     'b. A king should never trust his '\n",
            "                                     'servants',\n",
            "                                     'c. A king wishing long life should never '\n",
            "                                     'keep foolish servants',\n",
            "                                     'd. A king should always sleep alone'],\n",
            "                         'question': 'What is the moral of the story?',\n",
            "                         'right_option': 'c',\n",
            "                         'sources': ''}],\n",
            "          'topic': 'A story about a king and his foolish monkey servant'}}\n"
          ]
        }
      ],
      "source": [
        "english_quiz_text = parser.run(replies=english_quiz['generator']['replies'])\n",
        "pprint(english_quiz_text)"
      ]
    }
  ],
  "metadata": {
    "colab": {
      "provenance": [],
      "authorship_tag": "ABX9TyNFQA4rQCf+cz3YTlJUPojS",
      "include_colab_link": true
    },
    "kernelspec": {
      "display_name": "Python 3",
      "name": "python3"
    },
    "language_info": {
      "name": "python"
    }
  },
  "nbformat": 4,
  "nbformat_minor": 0
}